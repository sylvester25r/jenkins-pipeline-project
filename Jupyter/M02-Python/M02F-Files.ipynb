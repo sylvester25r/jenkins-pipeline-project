{
  "cells": [
    {
      "cell_type": "markdown",
      "metadata": {
        "id": "pOrSBEmKBmxF"
      },
      "source": []
    },
    {
      "cell_type": "markdown",
      "metadata": {
        "id": "tLMaM5YHoPuV"
      },
      "source": [
        "![Cloud-First](https://github.com/tulip-lab/sit742/blob/develop/Jupyter/image/CloudFirst.png?raw=1)\n",
        "\n",
        "\n",
        "\n",
        "# SIT742: Modern Data Science\n",
        "**(Module: Python Foundations for Big Data)**\n",
        "\n",
        "---\n",
        "- Materials in this module include resources collected from various open-source online repositories.\n",
        "- You are free to use, change and distribute this package.\n",
        "- If you found any issue/bug for this document, please submit an issue at [tulip-lab/sit742](https://github.com/tulip-lab/sit742/issues)\n",
        "\n",
        "\n",
        "Prepared by **SIT742 Teaching Team**\n",
        "\n",
        "---\n",
        "\n",
        "\n",
        "## Session 2F: File usage\n",
        "\n",
        "We will look at how to create, read, and write files in *Python*.\n",
        "We have obtained data via interaction with users in previous prac. Now let us\n",
        "explore how to deal with files to get input of a program and write\n",
        "output that can be used later.\n",
        "\n",
        "## Table of Content\n",
        "\n",
        "### Files\n",
        "\n",
        "1.1 [Reading files](#cell_read)\n",
        "\n",
        "1.2 [Writing files](#cell_write)\n",
        "\n",
        "### CSV Files\n",
        "\n",
        "2.1 [Read](#cell_list)\n",
        "\n",
        "2.2 [Write](#cell_tuple)\n",
        "\n"
      ]
    },
    {
      "cell_type": "markdown",
      "metadata": {
        "id": "7mpkvTSRBmyd"
      },
      "source": [
        "## Files\n",
        "\n",
        "### 1.1 Reading files\n",
        "\n",
        "\n",
        "You can open and use files for reading or writing by creating an object of the *file class*.  The *mode* that is specified for the file opening decides what you can do with the file: read, write or both. Then the file object's  **read()** or **write()** method can  be used to read from or write to the file. Finally, when you are finished with the file, you call the **close()** method to tell Python that you are done using the file.\n",
        "\n",
        "Here is an example. You can use the data file **score.txt**, which includes  data on students' score. The format of the data file is as follows:"
      ]
    },
    {
      "cell_type": "markdown",
      "metadata": {
        "id": "gmSgnJMKoPuc"
      },
      "source": [
        "Name, Student ID, Score   \n",
        "David 3402 80   \n",
        "Jane 3403 76    \n",
        "Sophia 3405 65    \n",
        "Jane 3447 92   \n",
        "William 3456 75   "
      ]
    },
    {
      "cell_type": "markdown",
      "metadata": {
        "id": "zX0btCtSBmye"
      },
      "source": [
        "For Online platforms such as Google Colab, it is important for you to get familiar with the provided data storage or cloud data storage function. Alternatively, you might want to directly access the file, and load into your Notebook."
      ]
    },
    {
      "cell_type": "code",
      "execution_count": null,
      "metadata": {
        "id": "IFG5yfANBmyf"
      },
      "outputs": [],
      "source": [
        "!pip install wget"
      ]
    },
    {
      "cell_type": "markdown",
      "metadata": {
        "id": "U5ixu3VUBmyh"
      },
      "source": [
        "Then you can download the file into GPFS file system."
      ]
    },
    {
      "cell_type": "code",
      "execution_count": null,
      "metadata": {
        "id": "mZz9001yBmyh"
      },
      "outputs": [],
      "source": [
        "import wget\n",
        "\n",
        "link_to_data = 'https://github.com/tulip-lab/sit742/raw/master/Jupyter/data/score.txt'\n",
        "DataSet = wget.download(link_to_data)\n",
        "\n",
        "print(DataSet)"
      ]
    },
    {
      "cell_type": "markdown",
      "metadata": {
        "id": "D5NLUAxoBmyj"
      },
      "source": [
        "The following example  read from the **.txt** file and display information on the screen. Please type the code and run it under script mode. Make sure **score.txt** are saved under your **data** folder."
      ]
    },
    {
      "cell_type": "code",
      "execution_count": null,
      "metadata": {
        "id": "fGWLZazQBmyj"
      },
      "outputs": [],
      "source": [
        "# scorefile = open('https://raw.githubusercontent.com/tulip-lab/sit742/master/Jupyter/data/score.txt','r')\n",
        "\n",
        "scorefile = open('score.txt','r')\n",
        "\n",
        "for line in scorefile:\n",
        "    value = line.split()\n",
        "    name = value[0]\n",
        "    id = value[1]\n",
        "    score = value[2]\n",
        "    print('%s with ID %s has a score of %s' % (name, id, score))\n"
      ]
    },
    {
      "cell_type": "markdown",
      "metadata": {
        "id": "TM_kpY_3Bmyl"
      },
      "source": [
        "How the program works:\n",
        "1. The **open()** function is used to open a file. You need to specify the name of the file and the mode in which you want to open the file. The mode can be read mode('r'), write mode('w') or append mode('a'). There are actually many more modes available. You can get more details by create a cell and typing \"\"open\"\". Please try this in your notebook. When we finish working on the file, we  need to close the file using **close()** method.\n",
        "\n",
        "\n",
        "2. To process all of the data, we use a **for** loop to iterate over the lines of the file. The **line** variable is a string that is used to store characters in each line.\n",
        "\n",
        "     \n",
        "3. We use the **split()** method to break each line into a list containing all the fields of interest. We can then take the value corresponding to **name**, **id** and **score** and  print them in the sentence. To get each data item in a list, we use index with the list. e.g. values[0] will return the item of position 0 in the list.  Note that in Python the position of items in a list is starting from $0$."
      ]
    },
    {
      "cell_type": "markdown",
      "metadata": {
        "id": "WrvvbEHYBmyl"
      },
      "source": [
        "### 1.2. Writing to files\n",
        "\n",
        "One of the most commonly performed data processing tasks is to read data from a file, manipulate it in some way and then write the resulting data out to a new data file to be used for other purpose later. For creating a new file used for writing, the same **open()** function is used. Instead using 'r' mode, 'w' mode is used as the parameter. When we open a file for writing, a new, empty file with the specified  name is created and ready to accept our data.\n",
        "\n",
        "As an example, consider the **score.txt** data again. Assume we have request to remove the name information in the file for privacy issue. Therefore, the output file need  to have student ID with the scores separated by a comma.  Here is how we can generate the required file."
      ]
    },
    {
      "cell_type": "code",
      "execution_count": null,
      "metadata": {
        "id": "WIgxvy2sBmym"
      },
      "outputs": [],
      "source": [
        "infile = open('score.txt', 'r')\n",
        "outfile = open('id.txt', 'w')\n",
        "\n",
        "for line in infile:\n",
        "    values = line.split()\n",
        "    id = values[1]\n",
        "    score = values[2]\n",
        "    dataline = id + ',' + score\n",
        "\n",
        "    outfile.write(dataline + '\\n')\n",
        "\n",
        "infile.close()\n",
        "outfile.close()\n"
      ]
    },
    {
      "cell_type": "markdown",
      "metadata": {
        "id": "dvGy8vFIzRxR"
      },
      "source": [
        "You can use the `print()` to print file content on the console."
      ]
    },
    {
      "cell_type": "code",
      "execution_count": null,
      "metadata": {
        "id": "MINqoph9XTB1"
      },
      "outputs": [],
      "source": [
        "f=open('id.txt', 'r')\n",
        "message=f.read()\n",
        "print(message)\n",
        "f.close"
      ]
    },
    {
      "cell_type": "markdown",
      "metadata": {
        "id": "PmDqWJ_EBmyo"
      },
      "source": [
        "\n",
        "How the program works:\n",
        "\n",
        "1. We have add another **open()** method with 'w' mode. The filename **id.txt** is chosen  to store the data. If the file does not exist, it will be created. However, if the file does exist, it will be reinitialized and empty,  and any previous contents will be lost\n",
        "2. We have variable **dataline** to store what need to be write in the file. If you like, you can add \ta line **print(dataline)** to check the string value. We then call function **write()** method to write  **dataline** into the file.\n",
        "3. There is one additional part we need to add when writing to file. The newline character **\\n** need to be concatenated to the end of the line. Otherwise,  the text will be all in one continuous line.  \n",
        "\n",
        "4. The file needs to be closed at the end.  \n"
      ]
    },
    {
      "cell_type": "markdown",
      "metadata": {
        "id": "4Xu7rvCrBmyp"
      },
      "source": [
        "<a id = \"cell_list\"></a>"
      ]
    },
    {
      "cell_type": "markdown",
      "metadata": {
        "id": "ZXxkKq8eBmyq"
      },
      "source": [
        "## CSV Files\n",
        "\n",
        "\n",
        "In this part, we will see how to read and write data from **`CSV`** file. *CSV (Comma Separated Values)* format is the most common import and export format for **speadsheets** and databases. With knowledge from above part, we should be  able to open  **CSV** file as normal text file, loop over the lines, and use **split** method to get individual columns.\n",
        "However, we will in this prac learn to use a *`Python`* built-in module, *CSV*, to simplify the whole process.\n",
        "\n",
        "\n",
        "### Import CSV module\n",
        "\n",
        "As mentioned earlier, Python provides a **csv** module which makes it easier to deal with **csv**  file. A *module* is a program file that contains a collection of related functions. Before we can use the module, we have  to add the following line at the beginning of our program to import the module.\n",
        "               "
      ]
    },
    {
      "cell_type": "code",
      "execution_count": null,
      "metadata": {
        "id": "E7e8UuwGBmyq"
      },
      "outputs": [],
      "source": [
        "import csv\n"
      ]
    },
    {
      "cell_type": "markdown",
      "metadata": {
        "id": "j7ruHjt3Bmy0"
      },
      "source": [
        "### Read  CSV file\n",
        "\n",
        "To read data from a **csv** file, use the **reader()** function to create a reader object. The **reader** function will take each line of the file and make a list containing all that line's columns. The following example reads the file and prints items on each row.  \n",
        "\n",
        "Please download **[score.csv](https://github.com/tulip-lab/sit742/raw/master/Jupyter/data/score.csv)** file before running the following program."
      ]
    },
    {
      "cell_type": "code",
      "execution_count": null,
      "metadata": {
        "id": "5pMh_H-MoPut"
      },
      "outputs": [],
      "source": [
        "import csv          #import module before reading from CSV file\n",
        "\n",
        "infile = open('https://raw.githubusercontent.com/tulip-lab/sit742/master/Jupyter/data/score.csv','r')\n",
        "incsv = csv.reader(infile, delimiter = ',')\n",
        "\n",
        "rowNum = 0\n",
        "for row in incsv:\n",
        "    if rowNum != 0:\n",
        "        # if this is not the first row\n",
        "        id, name, score = row\n",
        "        print(\"%s %s %s\" % (id, name, score))\n",
        "    rowNum += 1\n",
        "\n",
        "infile.close()"
      ]
    },
    {
      "cell_type": "markdown",
      "metadata": {
        "id": "RewBNRDMoPux"
      },
      "source": [
        "How it works:\n",
        "\n",
        "1.  The **open()** function  opens the **csv** file useing flag \"r\".\n",
        "\n",
        "2.  We use **csv.reader** to refer to the **reader()** function in the **csv** module. Inside the parentheses of the function, we also indicated that the **csv** file uses *comma* as a *delimiter*.  \n",
        "\n",
        "3. Within the **for** loop, each row that is read from the file are stored into variable **row**, which represents a list of strings. The items of the list are then  assigned to individual variables for further processing.\n",
        "\n",
        "4. The **if** statement in the **for** loop is used to skip the header row. Since we do not need the information in the header row, this row is simply skipped.\n",
        "\n",
        "5. Notice that the following lines are needed to initialize **rowNum** and  increment its value.\n"
      ]
    },
    {
      "cell_type": "markdown",
      "metadata": {
        "id": "Sx2L8ZSdoPuy"
      },
      "source": [
        ">...\n",
        ">\trowNum = 0\n",
        ">\n",
        ">  for row in incsv\n",
        ">\n",
        ">     ...\n",
        ">\n",
        ">   rowNum += 1\n",
        ">..."
      ]
    },
    {
      "cell_type": "markdown",
      "metadata": {
        "id": "LTzLZqsVoPuz"
      },
      "source": [
        "### Write CSV file\n",
        "\n",
        "To write `CSV` files,  use **writer()** to create an object for writing, then iterate over the rows using **writerow()** to print them. Note in the following example, **id** and **score** are first stored in **rowOutput**, which represents a list of string. Then the list `rowOutput`  is passed to **writerow()** method so that values of **id** and **score** can be written to the file."
      ]
    },
    {
      "cell_type": "code",
      "execution_count": null,
      "metadata": {
        "id": "ZpJRCPZdoPu8"
      },
      "outputs": [],
      "source": [
        "import csv\n",
        "\n",
        "infile = open(\"data/score.csv\", \"r\")\n",
        "incsv = csv.reader(infile, delimiter = ',')\n",
        "outfile = open(\"data/id.csv\", \"w\")\n",
        "outcsv = csv.writer(outfile, delimiter=',')\n",
        "\n",
        "rowNum = 0\n",
        "for row in incsv:\n",
        "    if rowNum != 0:         # skip first row\n",
        "        id, name, score = row\n",
        "        rowOutput = [id, score]\n",
        "        outcsv.writerow(rowOutput)\n",
        "    rowNum += 1\n",
        "\n",
        "infile.close()\n",
        "outfile.close()"
      ]
    }
  ],
  "metadata": {
    "colab": {
      "collapsed_sections": [
        "J5V62gWWBmxg",
        "ySAgg2-5BmyO",
        "zSrk7ffZBmyV",
        "Ry-Vx12jBmyb",
        "kBsd3dhuBm0Q",
        "Posmxo-aBm0c",
        "svAgKRIMBm0l",
        "P7Te1xa1Bm0o"
      ],
      "name": "M02F-Files.ipynb",
      "provenance": [],
      "toc_visible": true
    },
    "kernelspec": {
      "display_name": "Python 3",
      "language": "python",
      "name": "python3"
    },
    "language_info": {
      "codemirror_mode": {
        "name": "ipython",
        "version": 3
      },
      "file_extension": ".py",
      "mimetype": "text/x-python",
      "name": "python",
      "nbconvert_exporter": "python",
      "pygments_lexer": "ipython3",
      "version": "3.6.4"
    }
  },
  "nbformat": 4,
  "nbformat_minor": 0
}